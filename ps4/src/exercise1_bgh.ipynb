{
 "cells": [
  {
   "attachments": {},
   "cell_type": "markdown",
   "metadata": {},
   "source": [
    "# Exercise 1"
   ]
  },
  {
   "attachments": {},
   "cell_type": "markdown",
   "metadata": {},
   "source": [
    "## 1 (b): FOCs and Asset Prizing\n",
    "The Lagrangian for the consumer problem of consumer $i$ looks as follows:"
   ]
  },
  {
   "attachments": {},
   "cell_type": "markdown",
   "metadata": {},
   "source": [
    "$$\n",
    "  L = u(c_0^i) + \\beta \\sum_{s\\in S} \\pi(s) u(c_1^i(s)) \\\\\n",
    "\t- \\lambda_i(c_0^i + \\sum_{s\\in S}\\{p_0^sq_0^{i,s}\\} - y_0^i) \\\\\n",
    "\t- \\beta \\sum_{s\\in S}\\{\\pi(s)\\mu_s(c_1^i(s) - q_0^{i, s} - y_1(s)\\}\n",
    "$$"
   ]
  },
  {
   "attachments": {},
   "cell_type": "markdown",
   "metadata": {},
   "source": [
    "From this problem we get three types of first order conditions (with respect to $c_0^i, c_1^i(s), q_0^{i,s}$):\n",
    "\n",
    "$$\n",
    "\\begin{aligned}\n",
    "\t\\frac{\\partial L}{\\partial c_0^i} = u'(c_0^i) - \\lambda_i = 0 \\\\\n",
    "\t\\frac{\\partial L}{\\partial c_1^i(s)} = \\pi(s)\\beta u'(c_1^i(s)) - \\pi(s)\\beta\\mu_s = 0 \\\\\n",
    "\t\\frac{\\partial L}{\\partial q_0^i(s)} = -\\lambda_i p_0^s + \\pi(s)\\beta\\mu_s = 0 \n",
    "\\end{aligned}\n",
    "$$\n",
    "where the last two equations hold $\\forall s\\in S$."
   ]
  },
  {
   "attachments": {},
   "cell_type": "markdown",
   "metadata": {},
   "source": [
    "From the first equation we get $\\lambda_i = u'(c_0^i)$, thus $\\lambda_i$ is independent of the state $s$. The second equation implies $\\mu_s = u'(c_1^i(s))$ again $\\forall s\\in S$. Combining the two with the last equation gives the following pricing equation:\n",
    "$$ \n",
    "p_0^s = \\beta\\pi(s) \\frac{u'(c_1^i(s))}{u'(c_0^i)}.\n",
    "$$\n",
    "Thus the price of an asset paying out in state $s$ depends on three things:\n",
    "* *Time preferences*: if $\\beta$ is higher, consumer have a higher preferences for future consumption thus asset demand is higher $\\Rightarrow$ asset prices are higher; this holds irrespective of the state $s$ for which the asset pays out.\n",
    "* *Relative consumption (utilities)*: If consumption in the future state $s$ is low relative to period $0$ consumption, the ratio of marginal utilities in the asset pricing equation is high: an additional unit of consumption is more valuable in the future state $s$. Thus consumers want to shift consumption to that state by buying the asset: asset demand and thus prices increase.\n",
    "* *Probability of the state*: If $\\pi(s)$ is high, asset demand and thus prices increase because consumption in that state becomes more valuable in expectation (e.g. entering one state with near certainty consumer would not want to hold a lot of assets for other states)."
   ]
  },
  {
   "attachments": {},
   "cell_type": "markdown",
   "metadata": {},
   "source": [
    "(Note on binding constraint.)"
   ]
  },
  {
   "attachments": {},
   "cell_type": "markdown",
   "metadata": {},
   "source": [
    "## 1 (g)\n",
    "Now we are in a setting in which (a) endowments in the future are (perfectly) negatively correlated assuming they are not constant (since $y_1^0(s) + y_1^1(s) = 2y$), (b) there is no *aggregate* risk (aggregate endowment is always $2y$, irrespective of state), and (c) both consumers have the same overall endowment (across time and states)."
   ]
  },
  {
   "attachments": {},
   "cell_type": "markdown",
   "metadata": {},
   "source": [
    "### Step 1: Showing that consumption is state-invariant\n",
    "We can first show that consumption levels are equalized across states for any agent.\n",
    "* Combining the FOCs of agent $0, 1$ gives: $\\frac{u'(c_1^1(s))}{u'(c_1^0(s))} = \\frac{\\lambda_1}{\\lambda_0}$.\n",
    "* Solve this for the consumption of agent $1$: $c_1^1(s) = u'^{-1}(\\frac{\\lambda_1}{\\lambda_0}u'(c_1^0(s)))$.\n",
    "* Now plug this into the market clearing condition:\n",
    "\t* $\\sum_{i\\in\\{0,1\\}}c_1^1(s) = \\sum_{i\\in\\{0,1\\}}y_1^1(s)$, $\\forall s\\in S$, which follows from summing up budget constraints over agents and imposing market clearing for assets: $\\sum_{i\\in\\{0,1\\}} q_0^{1s} = 0$.\n",
    "\t* Thus $$\\sum_{i\\in\\{0,1\\}} u'^{-1}(\\frac{\\lambda_i}{\\lambda_0} u'(c_1^0(s)) = \\sum_{i\\in\\{0,1\\}} y_1^i(s)$$\n",
    "\twhich implies that the consumption of agents is constant over states in $t=1$ because the aggregate endowment on the RHS is constant and all other terms (e.g. the $\\lambda_k$) do not vary by state.\n",
    "* Thus, $c_t^i(s) = \\bar{c}^i$ for $i\\in \\{0, 1\\}$ and $\\forall s \\in S$."
   ]
  },
  {
   "attachments": {},
   "cell_type": "markdown",
   "metadata": {},
   "source": [
    "### Step 2: Asset prices and time zero consumption\n",
    "\n",
    "Note further, that we can also show that $t=0$ consumption needs to be the same constant.\n",
    "\n",
    "The ratio of the two FOCs with respect to $c_0^1$ and $c_0^0$ gives:\n",
    "$$\n",
    "\\frac{u'(c_0^1)}{u'(c_0^0)} = \\frac{\\lambda_1}{\\lambda_0} \\\\\n",
    "c_0^i = u'^{-1}(\\frac{\\lambda_1}{\\lambda_0}u'(c_0^j)).\n",
    "$$\n",
    "Then using the $t=0$ budget constraint, market clearing and common prices we have\n",
    "$$\n",
    "\\sum_{i\\in\\{0,1\\}} y_0^i = \\sum_{i\\in\\{0,1\\}} c_0^i + \\sum_{i\\in\\{0,1\\}} \\sum_{s \\in S}p_0^sq_0^{is} \\\\\n",
    "\\sum_{i\\in\\{0,1\\}} y_0^i = \\sum_{i\\in\\{0,1\\}} c_0^i + \\sum_{s \\in S}p_0^s\\sum_{i\\in\\{0,1\\}} q_0^{is} \\\\\n",
    "\\sum_{i\\in\\{0,1\\}} y_0^i = \\sum_{i\\in\\{0,1\\}} c_0^i\n",
    "$$\n",
    "and plugging the above expression for $c_0^i$ into this gives\n",
    "$$\n",
    "\\sum_{i\\in\\{0,1\\}} y_0^i = \\sum_{i\\in\\{0,1\\}} u'^{-1}(\\frac{\\lambda_i}{\\lambda_0}u'(c_0^j))\n",
    "$$\n",
    "thus $c_0^j$ is also time-invariant. In particular, because $\\sum_{i\\in\\{0,1\\}} y_0^i = \\sum_{i\\in\\{0,1\\}} y_1^i(s)$ we also have $c_0^j = \\bar{c}^j$ (equivalent for agent $i$)."
   ]
  },
  {
   "attachments": {},
   "cell_type": "markdown",
   "metadata": {},
   "source": [
    "Lastly, we derive the asset pricing equation under constant consumption:\n",
    "$$\n",
    "p_0^s = \\beta \\pi \\frac{u'(\\bar{c}^i)}{\\lambda_i}, \\forall s \\in S \\\\\n",
    "$$\n",
    "and since $\\lambda_i = u'(c_0^i) = u'(\\bar{c}^i)$ we have in our potential equilibrium that\n",
    "$$\n",
    "p_0^s = \\beta \\pi.\n",
    "$$"
   ]
  },
  {
   "attachments": {},
   "cell_type": "markdown",
   "metadata": {},
   "source": [
    "### Step 3: Consumption levels\n",
    "We can then use the budget constraints to derive the constant consumption levels: For any $i\\in\\{0,1\\}$ we have:\n",
    "$$\n",
    "y = y_0^i = \\bar{c}^i + \\sum_s p_0^s q_0^{is} \\\\\n",
    "$$\n",
    "Now plugging in the price derived above and the second period budget constraints gives\n",
    "$$\n",
    "y = \\bar{c}^i + \\sum_s \\beta \\pi (c_1^i(s) - y_1^i(s)) \\\\\n",
    "$$\n",
    "Using constant consumption across all periods as well as total endowments in period $1$ of agent $i$ being $|S|y$ we can derive $\\bar{c}^i$:\n",
    "$$\n",
    "y = \\bar{c}^i + \\sum_s \\beta \\pi (\\bar{c}^i - y_1^i(s)) \\\\\n",
    "0 = (\\bar{c}^i - y) + \\beta \\pi (|S|\\bar{c}^i - \\sum_s y_1^i(s)) \\\\\n",
    "0 = (\\bar{c}^i - y) + \\beta \\pi (|S|\\bar{c}^i - |S|y) \\\\\n",
    "0 = (1 + \\beta \\pi |S|)(\\bar{c}^i - y). \\\\\n",
    "$$\n",
    "The last step then implies $\\bar{c}^i = y$ for $i\\in\\{0,1\\}$.\n",
    "\n",
    "<font size = \"2\"> While we never explicitly use the covariance/variance assumption note this is an implication of $\\sum_i y_1^i(s)= 2y$ $\\Rightarrow$ $Corr(y_1^0(s), y_1^1(s))) = -1$. This holds unless one of the agents receives the full endowment for all periods (so there is no randomness)."
   ]
  },
  {
   "attachments": {},
   "cell_type": "markdown",
   "metadata": {},
   "source": [
    "### Complete Solution\n",
    "* Consumption allocation: $c_t^i = y$ which holds $\\forall i\\in\\{0,1\\}, \\forall t \\in \\{0,1\\}, \\forall s \\in S$\n",
    "* Asset demands: $q_0^{is} = y - y_1^i(s)$ holding $\\forall i \\in \\{0,1\\}, \\forall s \\in S$\n",
    "* Prices: $\\{1, \\{\\pi\\beta\\}_{s\\in S}\\}$, where the first entry is the price of period $t=0$ consumption (the numeraire)."
   ]
  },
  {
   "attachments": {},
   "cell_type": "markdown",
   "metadata": {},
   "source": [
    "## 1 (h)\n",
    "Now assume $y_0^0 > y_0^1$ (wlog), but assume that still $y_0^0 + y_0^1 = 2y$. Denote $y_0^0 = y + \\delta$ with $\\delta > 0$.\n",
    "\n",
    "Heuristically, we can then argue that now the agent $0$, the one with the higher total endowment, will have a higher level of consumption, while agent $1$ will have a lower level: From the first order conditions we have\n",
    "$$\n",
    "\\frac{u'(c_1^1(s))}{u'(c_1^0(s))} = \\frac{u'(\\bar{c}^1)}{u'(\\bar{c}^0)} = \\frac{\\lambda_1}{\\lambda_0}\n",
    "$$\n",
    "Now interpreting $\\lambda_j$ as the shadow price of resources available in period 1 (or of total resources if we write only one budget constraint in the problem), $y_0^0 > y_0^1$ implies $\\lambda_0 < \\lambda_1$, keeping the rest of the endowment sequence fixed. That is, the value of slackening the budget constraint is lower for agent $0$ because they have a higher level of resources compared to the setting in (g). Thus the right-hand ratio becomes larger, so in the new equilibrium the LHS ratio also has to be larger which implies $\\bar{c}^0 > \\bar{c}^1$, so agent $0$ has a relatively higher level of consumption thus lower marginal utility, making the LHS bigger."
   ]
  },
  {
   "attachments": {},
   "cell_type": "markdown",
   "metadata": {},
   "source": [
    "We can also derive this consumption level using Step 3 from above (at least under the assumption that $y_0^0 + y_0^1 = 2y$). Note that all the arguments from Steps 1 and 2 from the (g) remain unchanged. In particular, while the ratio $\\frac{\\lambda_1}{\\lambda_0}$ will change,  consumption for both agents will still be constant across states and periods. For agent $0$ we now have\n",
    "$$\n",
    "y + \\delta = \\bar{c}^0 + \\sum_s \\beta \\pi (\\bar{c}^0 - y_1^0(s)) \\\\\n",
    "\\delta = (\\bar{c}^0 - y) + \\beta \\pi (|S|\\bar{c}^0 - \\sum_s y_1^0(s)) \\\\\n",
    "\\delta = (\\bar{c}^0 - y) + \\beta \\pi (|S|\\bar{c}^0 - |S|y) \\\\\n",
    "\\delta = (1 + \\beta \\pi |S|)(\\bar{c}^0 - y). \\\\\n",
    "\\bar{c}^0 = y + \\frac{\\delta}{1 + \\beta\\pi|S|}\n",
    "$$\n",
    "and equivalently\n",
    "$$\n",
    "\\bar{c}^1 = y - \\frac{\\delta}{1 + \\beta\\pi|S|} < \\bar{c}^0\n",
    "$$"
   ]
  }
 ],
 "metadata": {
  "kernelspec": {
   "display_name": "Julia 1.8.1",
   "language": "julia",
   "name": "julia-1.8"
  },
  "language_info": {
   "file_extension": ".jl",
   "mimetype": "application/julia",
   "name": "julia",
   "version": "1.8.1"
  },
  "orig_nbformat": 4
 },
 "nbformat": 4,
 "nbformat_minor": 2
}

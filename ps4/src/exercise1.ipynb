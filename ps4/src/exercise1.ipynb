{
 "cells": [
  {
   "attachments": {},
   "cell_type": "markdown",
   "metadata": {},
   "source": [
    "# Exercise 1"
   ]
  },
  {
   "attachments": {},
   "cell_type": "markdown",
   "metadata": {},
   "source": [
    "## 1 (b): FOCs and Asset Prizing\n",
    "The Lagrangian for the consumer problem of consumer $i$ looks as follows:"
   ]
  },
  {
   "attachments": {},
   "cell_type": "markdown",
   "metadata": {},
   "source": [
    "$$\n",
    "  L = u(c_0^i) + \\beta \\sum_{s\\in S} \\pi(s) u(c_1^i(s)) \\\\\n",
    "\t- \\lambda_i(c_0^i + \\sum_{s\\in S}\\{p_0^sq_0^{i,s}\\} - y_0^i) \\\\\n",
    "\t- \\beta \\sum_{s\\in S}\\{\\pi(s)\\mu_s(c_1^i(s) - q_0^{i, s} - y_1(s)\\}\n",
    "$$"
   ]
  },
  {
   "attachments": {},
   "cell_type": "markdown",
   "metadata": {},
   "source": [
    "From this problem we get three types of first order conditions (with respect to $c_0^i, c_1^i(s), q_0^{i,s}$):\n",
    "\n",
    "$$\n",
    "\\begin{aligned}\n",
    "\t\\frac{\\partial L}{\\partial c_0^i} = u'(c_0^i) - \\lambda_i = 0 \\\\\n",
    "\t\\frac{\\partial L}{\\partial c_1^i(s)} = \\pi(s)\\beta u'(c_1^i(s)) - \\pi(s)\\beta\\mu_s = 0 \\\\\n",
    "\t\\frac{\\partial L}{\\partial q_0^i(s)} = -\\lambda_i p_0^s + \\pi(s)\\beta\\mu_s = 0 \n",
    "\\end{aligned}\n",
    "$$\n",
    "where the last two equations hold $\\forall s\\in S$."
   ]
  },
  {
   "attachments": {},
   "cell_type": "markdown",
   "metadata": {},
   "source": [
    "From the first equation we get $\\lambda_i = u'(c_0^i)$, thus $\\lambda_i$ is independent of the state $s$. The second equation implies $\\mu_s = u'(c_1^i(s))$ again $\\forall s\\in S$. Combining the two with the last equation gives the following pricing equation:\n",
    "$$ \n",
    "p_0^s = \\beta\\pi(s) \\frac{u'(c_1^i(s))}{u'(c_0^i)}.\n",
    "$$\n",
    "Thus the price of an asset paying out in state $s$ depends on three things:\n",
    "* *Time preferences*: if $\\beta$ is higher, consumer have a higher preferences for future consumption thus asset demand is higher $\\Rightarrow$ asset prices are higher; this holds irrespective of the state $s$ for which the asset pays out.\n",
    "* *Relative consumption (utilities)*: If consumption in the future state $s$ is low relative to period $0$ consumption, the ratio of marginal utilities in the asset pricing equation is high: an additional unit of consumption is more valuable in the future state $s$. Thus consumers want to shift consumption to that state by buying the asset: asset demand and thus prices increase.\n",
    "* *Probability of the state*: If $\\pi(s)$ is high, asset demand and thus prices increase because consumption in that state becomes more valuable in expectation (e.g. entering one state with near certainty consumer would not want to hold a lot of assets for other states)."
   ]
  },
  {
   "attachments": {},
   "cell_type": "markdown",
   "metadata": {},
   "source": [
    "(Note on binding constraint.)"
   ]
  },
  {
   "attachments": {},
   "cell_type": "markdown",
   "metadata": {},
   "source": [
    "## 1 (c)\n",
    "- Market clearing: Aggregate assets are net zero.\n",
    "- Number of budget constraints: $|S|$."
   ]
  },
  {
   "attachments": {},
   "cell_type": "markdown",
   "metadata": {},
   "source": [
    "## 1 (c)\n",
    "- Market clearing: Aggregate assets are net zero.\n",
    "- Number of budget constraints: $|S|$."
   ]
  },
  {
   "attachments": {},
   "cell_type": "markdown",
   "metadata": {},
   "source": [
    "## 1 (d)\n",
    "- "
   ]
  },
  {
   "attachments": {},
   "cell_type": "markdown",
   "metadata": {},
   "source": [
    "## 1 (e)\n",
    "In equilibrium HH do not want to change their portfolio.\n",
    "- Within model HH are acting optimally.\n",
    "- But: Would like to insure against aggregate risk."
   ]
  },
  {
   "attachments": {},
   "cell_type": "markdown",
   "metadata": {},
   "source": [
    "## 1 (f)\n",
    "Financial markets cannot insure against aggregate risk.\n",
    "- Maybe risk-loving consumers\n",
    "- Maybe differences in beliefs"
   ]
  },
  {
   "attachments": {},
   "cell_type": "markdown",
   "metadata": {},
   "source": [
    "## 1 (g)\n",
    "Now we are in a setting in which (a) endowments in the future are (perfectly) negatively correlated assuming they are not constant (since $y_1^0(s) + y_1^1(s) = 2y$), (b) there is no *aggregate* risk (aggregate endowment is always $2y$, irrespective of state), and (c) both consumers have the same overall endowment (across time and states)."
   ]
  },
  {
   "attachments": {},
   "cell_type": "markdown",
   "metadata": {},
   "source": [
    "### Step 1: Showing that consumption is state-invariant\n",
    "We can first show that consumption levels are equalized across states for any agent.\n",
    "* Combining the FOCs of agent $0, 1$ gives: $\\frac{u'(c_1^1(s))}{u'(c_1^0(s))} = \\frac{\\lambda_1}{\\lambda_0}$.\n",
    "* Solve this for the consumption of agent $i$: $c_1^1(s) = u'^{-1}(\\frac{\\lambda_1}{\\lambda_0}u'(c_1^0(s)))$.\n",
    "* Now plug this into the market clearing condition:\n",
    "\t* $\\sum_ic_1^1(s) = \\sum_iy_1^1(s)$, $\\forall s\\in S$, which follows from summing up budget constraints over agents and imposing market clearing for assets: $\\sum_i q_0^{1s} = 0$.\n",
    "\t* Thus $$\\sum_i u'^{-1}(\\frac{\\lambda_1}{\\lambda_0} u'(c_1^0(s)) = \\sum_i y_1^1(s)$$\n",
    "\twhich implies that the consumption of agents is constant over states in $t=1$ because the aggregate endowment on the RHS is constant and all other terms (e.g. the $\\lambda_k$) do not vary by state.\n",
    "* Thus, $c_t^0(s) = \\bar{c}^0$ for $0\\in \\{0, 1\\}$ and $\\forall s \\in S$."
   ]
  },
  {
   "attachments": {},
   "cell_type": "markdown",
   "metadata": {},
   "source": [
    "### Step 2: Asset prices and time zero consumption\n",
    "\n",
    "Note further, that we can also show that $t=0$ consumption needs to be the same constant.\n",
    "\n",
    "The ratio of the two FOCs with respect to $c_0^i$ and $c_0^j$ gives:\n",
    "$$\n",
    "\\frac{u'(c_0^1)}{u'(c_0^0)} = \\frac{\\lambda_1}{\\lambda_0} \\\\\n",
    "c_0^i = u'^{-1}(\\frac{\\lambda_1}{\\lambda_0}u'(c_0^j)).\n",
    "$$\n",
    "Then using the $t=0$ budget constraint, market clearing and common prices we have\n",
    "$$\n",
    "\\sum_i y_0^i = \\sum_i c_0^i + \\sum_i \\sum_{s \\in S}p_0^sq_0^{is} \\\\\n",
    "\\sum_i y_0^i = \\sum_i c_0^i + \\sum_{s \\in S}p_0^s\\sum_i q_0^{is} \\\\\n",
    "\\sum_i y_0^i = \\sum_i c_0^i\n",
    "$$\n",
    "and plugging the above expression for $c_0^i$ into this gives\n",
    "$$\n",
    "\\sum_i y_0^i = \\sum_i u'^{-1}(\\frac{\\lambda_1}{\\lambda_0}u'(c_0^j))\n",
    "$$\n",
    "thus $c_0^j$ is also time-invariant. In particular, because $\\sum_i y_0^i = \\sum_i y_1^i(s)$ we also have $c_0^j = \\bar{c}^j$ (equivalent for agent $i$)."
   ]
  },
  {
   "attachments": {},
   "cell_type": "markdown",
   "metadata": {},
   "source": [
    "Lastly, we derive the asset pricing equation under constant consumption:\n",
    "$$\n",
    "p_0^s = \\beta \\pi \\frac{u'(\\bar{c}^i)}{\\lambda_i}, \\forall s \\in S \\\\\n",
    "$$\n",
    "and since $\\lambda_i = u'(c_0^i) = u'(\\bar{c}^i)$ we have in our potential equilibrium that\n",
    "$$\n",
    "p_0^s = \\beta \\pi.\n",
    "$$"
   ]
  },
  {
   "attachments": {},
   "cell_type": "markdown",
   "metadata": {},
   "source": [
    "### Step 3: Consumption levels\n",
    "We can then use the budget constraints to derive the constant consumption levels:\n",
    "$$\n",
    "y = y_0^i = \\bar{c}^i + \\sum_s p_0^s q_0^{is} \\\\\n",
    "y = \\bar{c}^i + \\sum_s \\beta \\pi (c_1^i(s) - y_1^i(s)) \\\\\n",
    "y = \\bar{c}^i + \\sum_s \\beta \\pi (\\bar{c}^i - y_1^i(s)) \\\\\n",
    "0 = (\\bar{c}^i - y) + \\beta \\pi (|S|\\bar{c}^i - \\sum_s y_1^i(s)) \\\\\n",
    "0 = (\\bar{c}^i - y) + \\beta \\pi (|S|\\bar{c}^i - |S|y) \\\\\n",
    "0 = (1 + \\beta \\pi |S|)(\\bar{c}^i - y), \\\\\n",
    "$$\n",
    "where we use the budget constraints from $t=0$ and $t=1$, $p_0^s = \\pi\\beta$, and the feature of the endowment process that $y_0^i = y$ and $\\sum_s y_1^i(s) = \\sum_s y = |S|y$.\n",
    "The last step then implies $\\bar{c}^i = y$. Note the problem for $j$ is the same as total endowments (t = 0 and summed over states) are identical. Thus, also $\\bar{c}^j = y$.\n",
    "\n",
    "<font size = \"2\"> While we never explicitly use the covariance/variance assumption note this is an implication of $\\sum_i y_1^i(s)= 2y$ $\\Rightarrow$ $Corr(y_1^0(s), y_1^1(s))) = -1$. This holds unless one of the agents receives the full endowment for all periods (so there is no randomness)."
   ]
  },
  {
   "attachments": {},
   "cell_type": "markdown",
   "metadata": {},
   "source": [
    "### Complete Solution\n",
    "* Consumption allocation: $c_t^i = y$ which holds $\\forall i\\in\\{0,1\\}, \\forall t \\in \\{0,1\\}, \\forall s \\in S$\n",
    "* Asset demands: $q_0^{is} = y - y_1^i(s)$ holding $\\forall i \\in \\{0,1\\}, \\forall s \\in S$\n",
    "* Prices: $\\{1, \\{\\pi\\beta\\}_{s\\in S}\\}$, where the first entry is the price of period $t=0$ consumption (the numeraire)."
   ]
  },
  {
   "attachments": {},
   "cell_type": "markdown",
   "metadata": {},
   "source": [
    "# 1 (i)\n",
    "- same weights --> same consumption\n",
    "- to rationalize (h) --> choose weights $"
   ]
  },
  {
   "attachments": {},
   "cell_type": "markdown",
   "metadata": {},
   "source": [
    "# 1(j)\n",
    "- Assumption: two or more HH, but don't know before t = 0 which HH type\n",
    "- in extreme case might not buy assets at all although would like ex-post\n",
    "- social planner knows what type HH will be --> buys out insurance for them\n",
    "- or: so many HH that social planer can pool the risk"
   ]
  },
  {
   "attachments": {},
   "cell_type": "markdown",
   "metadata": {},
   "source": [
    "# 1(k)\n",
    "- achieve: insurance against idio-syncratic risk of HHs\n",
    "- not achieve: insurance against aggregate risks"
   ]
  },
  {
   "attachments": {},
   "cell_type": "markdown",
   "metadata": {},
   "source": [
    "# 1(l)\n",
    "With complete markets and same total endowments --> same consumptions in all periods and states --> all HH identical"
   ]
  },
  {
   "cell_type": "markdown",
   "metadata": {},
   "source": []
  }
 ],
 "metadata": {
  "kernelspec": {
   "display_name": "Julia 1.8.1",
   "language": "julia",
   "name": "julia-1.8"
  },
  "language_info": {
   "file_extension": ".jl",
   "mimetype": "application/julia",
   "name": "julia",
   "version": "1.8.1"
  },
  "orig_nbformat": 4
 },
 "nbformat": 4,
 "nbformat_minor": 2
}
